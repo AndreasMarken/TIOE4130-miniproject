{
 "cells": [
  {
   "cell_type": "code",
   "execution_count": 1,
   "metadata": {},
   "outputs": [],
   "source": [
    "import pandas as pd\n",
    "from gurobipy import GRB, Model, quicksum\n",
    "\n",
    "import utils.util as utils"
   ]
  },
  {
   "cell_type": "code",
   "execution_count": 2,
   "metadata": {},
   "outputs": [
    {
     "data": {
      "text/html": [
       "<div>\n",
       "<style scoped>\n",
       "    .dataframe tbody tr th:only-of-type {\n",
       "        vertical-align: middle;\n",
       "    }\n",
       "\n",
       "    .dataframe tbody tr th {\n",
       "        vertical-align: top;\n",
       "    }\n",
       "\n",
       "    .dataframe thead th {\n",
       "        text-align: right;\n",
       "    }\n",
       "</style>\n",
       "<table border=\"1\" class=\"dataframe\">\n",
       "  <thead>\n",
       "    <tr style=\"text-align: right;\">\n",
       "      <th></th>\n",
       "      <th>Area</th>\n",
       "      <th>City</th>\n",
       "      <th>x</th>\n",
       "      <th>y</th>\n",
       "      <th>TB/s</th>\n",
       "    </tr>\n",
       "  </thead>\n",
       "  <tbody>\n",
       "    <tr>\n",
       "      <th>0</th>\n",
       "      <td>1</td>\n",
       "      <td>Warszawa</td>\n",
       "      <td>100</td>\n",
       "      <td>65</td>\n",
       "      <td>-</td>\n",
       "    </tr>\n",
       "    <tr>\n",
       "      <th>1</th>\n",
       "      <td>1</td>\n",
       "      <td>Skierniewice</td>\n",
       "      <td>92</td>\n",
       "      <td>62</td>\n",
       "      <td>197</td>\n",
       "    </tr>\n",
       "    <tr>\n",
       "      <th>2</th>\n",
       "      <td>1</td>\n",
       "      <td>Lódz</td>\n",
       "      <td>85</td>\n",
       "      <td>58</td>\n",
       "      <td>317</td>\n",
       "    </tr>\n",
       "    <tr>\n",
       "      <th>3</th>\n",
       "      <td>1</td>\n",
       "      <td>Konin</td>\n",
       "      <td>68</td>\n",
       "      <td>64</td>\n",
       "      <td>236</td>\n",
       "    </tr>\n",
       "    <tr>\n",
       "      <th>4</th>\n",
       "      <td>1</td>\n",
       "      <td>Sieradz</td>\n",
       "      <td>72</td>\n",
       "      <td>55</td>\n",
       "      <td>178</td>\n",
       "    </tr>\n",
       "    <tr>\n",
       "      <th>5</th>\n",
       "      <td>1</td>\n",
       "      <td>Piotrków</td>\n",
       "      <td>89</td>\n",
       "      <td>51</td>\n",
       "      <td>139</td>\n",
       "    </tr>\n",
       "    <tr>\n",
       "      <th>6</th>\n",
       "      <td>1</td>\n",
       "      <td>Radom</td>\n",
       "      <td>102</td>\n",
       "      <td>50</td>\n",
       "      <td>288</td>\n",
       "    </tr>\n",
       "    <tr>\n",
       "      <th>7</th>\n",
       "      <td>2</td>\n",
       "      <td>Kielce</td>\n",
       "      <td>98</td>\n",
       "      <td>42</td>\n",
       "      <td>-</td>\n",
       "    </tr>\n",
       "    <tr>\n",
       "      <th>8</th>\n",
       "      <td>2</td>\n",
       "      <td>Czestochowa</td>\n",
       "      <td>79</td>\n",
       "      <td>40</td>\n",
       "      <td>278</td>\n",
       "    </tr>\n",
       "    <tr>\n",
       "      <th>9</th>\n",
       "      <td>2</td>\n",
       "      <td>Bytom</td>\n",
       "      <td>76</td>\n",
       "      <td>31</td>\n",
       "      <td>163</td>\n",
       "    </tr>\n",
       "    <tr>\n",
       "      <th>10</th>\n",
       "      <td>2</td>\n",
       "      <td>Gliwice</td>\n",
       "      <td>73</td>\n",
       "      <td>30</td>\n",
       "      <td>105</td>\n",
       "    </tr>\n",
       "    <tr>\n",
       "      <th>11</th>\n",
       "      <td>2</td>\n",
       "      <td>Sosnowiec</td>\n",
       "      <td>80</td>\n",
       "      <td>29</td>\n",
       "      <td>143</td>\n",
       "    </tr>\n",
       "    <tr>\n",
       "      <th>12</th>\n",
       "      <td>2</td>\n",
       "      <td>Kraków</td>\n",
       "      <td>89</td>\n",
       "      <td>25</td>\n",
       "      <td>331</td>\n",
       "    </tr>\n",
       "    <tr>\n",
       "      <th>13</th>\n",
       "      <td>2</td>\n",
       "      <td>Bielsko</td>\n",
       "      <td>79</td>\n",
       "      <td>20</td>\n",
       "      <td>276</td>\n",
       "    </tr>\n",
       "    <tr>\n",
       "      <th>14</th>\n",
       "      <td>2</td>\n",
       "      <td>Katowice</td>\n",
       "      <td>78</td>\n",
       "      <td>28</td>\n",
       "      <td>263</td>\n",
       "    </tr>\n",
       "    <tr>\n",
       "      <th>15</th>\n",
       "      <td>2</td>\n",
       "      <td>Jastrzębie-Zdrój</td>\n",
       "      <td>74</td>\n",
       "      <td>23</td>\n",
       "      <td>137</td>\n",
       "    </tr>\n",
       "    <tr>\n",
       "      <th>16</th>\n",
       "      <td>2</td>\n",
       "      <td>Wodzisław Śląski</td>\n",
       "      <td>71</td>\n",
       "      <td>23</td>\n",
       "      <td>119</td>\n",
       "    </tr>\n",
       "    <tr>\n",
       "      <th>17</th>\n",
       "      <td>3</td>\n",
       "      <td>Poznań</td>\n",
       "      <td>54</td>\n",
       "      <td>68</td>\n",
       "      <td>251</td>\n",
       "    </tr>\n",
       "    <tr>\n",
       "      <th>18</th>\n",
       "      <td>3</td>\n",
       "      <td>Zielona Góra</td>\n",
       "      <td>39</td>\n",
       "      <td>60</td>\n",
       "      <td>121</td>\n",
       "    </tr>\n",
       "    <tr>\n",
       "      <th>19</th>\n",
       "      <td>3</td>\n",
       "      <td>Leszno</td>\n",
       "      <td>51</td>\n",
       "      <td>58</td>\n",
       "      <td>84</td>\n",
       "    </tr>\n",
       "    <tr>\n",
       "      <th>20</th>\n",
       "      <td>3</td>\n",
       "      <td>Kalisz</td>\n",
       "      <td>65</td>\n",
       "      <td>58</td>\n",
       "      <td>207</td>\n",
       "    </tr>\n",
       "    <tr>\n",
       "      <th>21</th>\n",
       "      <td>3</td>\n",
       "      <td>Legnica</td>\n",
       "      <td>45</td>\n",
       "      <td>47</td>\n",
       "      <td>176</td>\n",
       "    </tr>\n",
       "    <tr>\n",
       "      <th>22</th>\n",
       "      <td>3</td>\n",
       "      <td>Wrocław</td>\n",
       "      <td>54</td>\n",
       "      <td>45</td>\n",
       "      <td>133</td>\n",
       "    </tr>\n",
       "    <tr>\n",
       "      <th>23</th>\n",
       "      <td>3</td>\n",
       "      <td>Jelenia Góra</td>\n",
       "      <td>40</td>\n",
       "      <td>42</td>\n",
       "      <td>167</td>\n",
       "    </tr>\n",
       "    <tr>\n",
       "      <th>24</th>\n",
       "      <td>3</td>\n",
       "      <td>Wałbrzych</td>\n",
       "      <td>46</td>\n",
       "      <td>39</td>\n",
       "      <td>129</td>\n",
       "    </tr>\n",
       "    <tr>\n",
       "      <th>25</th>\n",
       "      <td>3</td>\n",
       "      <td>Opole</td>\n",
       "      <td>67</td>\n",
       "      <td>37</td>\n",
       "      <td>-</td>\n",
       "    </tr>\n",
       "  </tbody>\n",
       "</table>\n",
       "</div>"
      ],
      "text/plain": [
       "    Area              City    x   y TB/s\n",
       "0      1          Warszawa  100  65    -\n",
       "1      1      Skierniewice   92  62  197\n",
       "2      1              Lódz   85  58  317\n",
       "3      1             Konin   68  64  236\n",
       "4      1           Sieradz   72  55  178\n",
       "5      1          Piotrków   89  51  139\n",
       "6      1             Radom  102  50  288\n",
       "7      2            Kielce   98  42    -\n",
       "8      2       Czestochowa   79  40  278\n",
       "9      2             Bytom   76  31  163\n",
       "10     2           Gliwice   73  30  105\n",
       "11     2         Sosnowiec   80  29  143\n",
       "12     2            Kraków   89  25  331\n",
       "13     2           Bielsko   79  20  276\n",
       "14     2          Katowice   78  28  263\n",
       "15     2  Jastrzębie-Zdrój   74  23  137\n",
       "16     2  Wodzisław Śląski   71  23  119\n",
       "17     3            Poznań   54  68  251\n",
       "18     3      Zielona Góra   39  60  121\n",
       "19     3            Leszno   51  58   84\n",
       "20     3            Kalisz   65  58  207\n",
       "21     3           Legnica   45  47  176\n",
       "22     3           Wrocław   54  45  133\n",
       "23     3      Jelenia Góra   40  42  167\n",
       "24     3         Wałbrzych   46  39  129\n",
       "25     3             Opole   67  37    -"
      ]
     },
     "execution_count": 2,
     "metadata": {},
     "output_type": "execute_result"
    }
   ],
   "source": [
    "cities_df = pd.read_csv('data/cities.csv')\n",
    "cities_df"
   ]
  },
  {
   "cell_type": "code",
   "execution_count": 3,
   "metadata": {},
   "outputs": [
    {
     "data": {
      "text/html": [
       "<div>\n",
       "<style scoped>\n",
       "    .dataframe tbody tr th:only-of-type {\n",
       "        vertical-align: middle;\n",
       "    }\n",
       "\n",
       "    .dataframe tbody tr th {\n",
       "        vertical-align: top;\n",
       "    }\n",
       "\n",
       "    .dataframe thead th {\n",
       "        text-align: right;\n",
       "    }\n",
       "</style>\n",
       "<table border=\"1\" class=\"dataframe\">\n",
       "  <thead>\n",
       "    <tr style=\"text-align: right;\">\n",
       "      <th></th>\n",
       "      <th>Area</th>\n",
       "      <th>Minimum cities in main line</th>\n",
       "      <th>Starting city</th>\n",
       "      <th>Ending city</th>\n",
       "      <th>Include at least</th>\n",
       "      <th>Include at most</th>\n",
       "    </tr>\n",
       "  </thead>\n",
       "  <tbody>\n",
       "    <tr>\n",
       "      <th>0</th>\n",
       "      <td>1</td>\n",
       "      <td>4</td>\n",
       "      <td>Warszawa</td>\n",
       "      <td>Radom</td>\n",
       "      <td>[[Konin]]</td>\n",
       "      <td>[]</td>\n",
       "    </tr>\n",
       "    <tr>\n",
       "      <th>1</th>\n",
       "      <td>2</td>\n",
       "      <td>5</td>\n",
       "      <td>Kielce</td>\n",
       "      <td>Gliwice</td>\n",
       "      <td>[]</td>\n",
       "      <td>[[Bytom, Sosnowiec, Katowice], [Wodzisław Śląs...</td>\n",
       "    </tr>\n",
       "    <tr>\n",
       "      <th>2</th>\n",
       "      <td>3</td>\n",
       "      <td>5</td>\n",
       "      <td>Opole</td>\n",
       "      <td>Jelenia Góra</td>\n",
       "      <td>[[Kalisz], [Poznań, Zielona Góra, Leszno]]</td>\n",
       "      <td>[]</td>\n",
       "    </tr>\n",
       "  </tbody>\n",
       "</table>\n",
       "</div>"
      ],
      "text/plain": [
       "   Area  Minimum cities in main line Starting city   Ending city  \\\n",
       "0     1                            4      Warszawa         Radom   \n",
       "1     2                            5        Kielce       Gliwice   \n",
       "2     3                            5         Opole  Jelenia Góra   \n",
       "\n",
       "                             Include at least  \\\n",
       "0                                   [[Konin]]   \n",
       "1                                          []   \n",
       "2  [[Kalisz], [Poznań, Zielona Góra, Leszno]]   \n",
       "\n",
       "                                     Include at most  \n",
       "0                                                 []  \n",
       "1  [[Bytom, Sosnowiec, Katowice], [Wodzisław Śląs...  \n",
       "2                                                 []  "
      ]
     },
     "execution_count": 3,
     "metadata": {},
     "output_type": "execute_result"
    }
   ],
   "source": [
    "area_df = pd.read_csv('data/area.csv')\n",
    "area_df['Include at least'] = area_df['Include at least'].apply(lambda x: [group.split(';') for group in x.split('|')] if pd.notna(x) else [])\n",
    "area_df['Include at most'] = area_df['Include at most'].apply(lambda x: [group.split(';') for group in x.split('|')] if pd.notna(x) else [])\n",
    "area_df"
   ]
  },
  {
   "cell_type": "markdown",
   "metadata": {},
   "source": [
    "### Parameters"
   ]
  },
  {
   "cell_type": "code",
   "execution_count": 26,
   "metadata": {},
   "outputs": [
    {
     "name": "stdout",
     "output_type": "stream",
     "text": [
      "{1: ['Warszawa', 'Skierniewice', 'Lódz', 'Konin', 'Sieradz', 'Piotrków', 'Radom'], 2: ['Kielce', 'Czestochowa', 'Bytom', 'Gliwice', 'Sosnowiec', 'Kraków', 'Bielsko', 'Katowice', 'Jastrzębie-Zdrój', 'Wodzisław Śląski'], 3: ['Poznań', 'Zielona Góra', 'Leszno', 'Kalisz', 'Legnica', 'Wrocław', 'Jelenia Góra', 'Wałbrzych', 'Opole']}\n"
     ]
    }
   ],
   "source": [
    "A = cities_df['Area'].unique().tolist()\n",
    "C = {a: cities_df[cities_df['Area'] == a]['City'].tolist() for a in A}\n",
    "print(C)\n",
    "\n",
    "M = {a: area_df[area_df['Area'] == a]['Minimum cities in main line'].values[0] for a in A}\n",
    "S = {a: area_df[area_df['Area'] == a]['Starting city'].values[0] for a in A}\n",
    "E = {a: area_df[area_df['Area'] == a]['Ending city'].values[0] for a in A}\n",
    "\n",
    "d = {(a, c1, c2): utils.euclidean((cities_df[cities_df['City'] == c1]['x'].values[0], cities_df[cities_df['City'] == c1]['y'].values[0]), (cities_df[cities_df['City'] == c2]['x'].values[0], cities_df[cities_df['City'] == c2]['y'].values[0])) for a in A for c1 in C[a] for c2 in C[a] if c1 != c2}"
   ]
  },
  {
   "cell_type": "code",
   "execution_count": 5,
   "metadata": {},
   "outputs": [
    {
     "name": "stdout",
     "output_type": "stream",
     "text": [
      "Set parameter Username\n",
      "Academic license - for non-commercial use only - expires 2025-08-29\n"
     ]
    }
   ],
   "source": [
    "model = Model('Main line optimization')"
   ]
  },
  {
   "cell_type": "markdown",
   "metadata": {},
   "source": [
    "### Variables"
   ]
  },
  {
   "cell_type": "code",
   "execution_count": 6,
   "metadata": {},
   "outputs": [],
   "source": [
    "x = model.addVars([(a, c1, c2) for a in A for c1 in C[a] for c2 in C[a] if c1 != c2], vtype=GRB.BINARY, name='x')\n",
    "y = model.addVars([(a, c) for a in A for c in C[a]], vtype=GRB.BINARY, name='y')"
   ]
  },
  {
   "cell_type": "markdown",
   "metadata": {},
   "source": [
    "### Objective function"
   ]
  },
  {
   "cell_type": "code",
   "execution_count": 7,
   "metadata": {},
   "outputs": [],
   "source": [
    "model.setObjective(quicksum(d[(a, c1, c2)]*x[a, c1, c2] for a in A for c1 in C[a] for c2 in C[a] if c1 != c2), GRB.MINIMIZE)"
   ]
  },
  {
   "cell_type": "markdown",
   "metadata": {},
   "source": [
    "### Starting and ending city constraint"
   ]
  },
  {
   "cell_type": "code",
   "execution_count": 8,
   "metadata": {},
   "outputs": [],
   "source": [
    "for a in A:\n",
    "    model.addConstr(y[a, S[a]] == 1, name=f'Starting city {a}')\n",
    "    model.addConstr(y[a, E[a]] == 1, name=f'Ending city {a}')\n",
    "\n",
    "    model.addConstr(quicksum(x[a, S[a], c] for c in C[a] if c != S[a]) >= 1, name=f'Starting city {a} out')\n",
    "    model.addConstr(quicksum(x[a, c, E[a]] for c in C[a] if c != E[a]) >= 1, name=f'Ending city {a} in')\n",
    "\n",
    "    model.addConstr(quicksum(x[a, c, S[a]] for c in C[a] if c != S[a]) == 0, name=f'Starting city {a} in')\n",
    "    model.addConstr(quicksum(x[a, E[a], c] for c in C[a] if c != E[a]) == 0, name=f'Ending city {a} out')"
   ]
  },
  {
   "cell_type": "markdown",
   "metadata": {},
   "source": [
    "### Satisfaction constraint"
   ]
  },
  {
   "cell_type": "code",
   "execution_count": 9,
   "metadata": {},
   "outputs": [
    {
     "data": {
      "text/plain": [
       "{1: <gurobi.Constr *Awaiting Model Update*>,\n",
       " 2: <gurobi.Constr *Awaiting Model Update*>,\n",
       " 3: <gurobi.Constr *Awaiting Model Update*>}"
      ]
     },
     "execution_count": 9,
     "metadata": {},
     "output_type": "execute_result"
    }
   ],
   "source": [
    "model.addConstrs((quicksum((y[a, c] for c in C[a])) >= M[a] for a in A), name='Minimum cities in main line')"
   ]
  },
  {
   "cell_type": "markdown",
   "metadata": {},
   "source": [
    "### Local growth constraint, Decentralization constraint, German connection constraint"
   ]
  },
  {
   "cell_type": "code",
   "execution_count": 10,
   "metadata": {},
   "outputs": [],
   "source": [
    "# for index, row in area_df.iterrows():\n",
    "#     area = row['Area']\n",
    "#     include_at_least = row['Include at least']\n",
    "\n",
    "#     if include_at_least:\n",
    "#         for group in include_at_least:\n",
    "#             model.addConstr(quicksum(y[area, c] for c in group) >= 1, name=f'Include at least {area}')"
   ]
  },
  {
   "cell_type": "code",
   "execution_count": 11,
   "metadata": {},
   "outputs": [],
   "source": [
    "# for index, row in area_df.iterrows():\n",
    "#     area = row['Area']\n",
    "#     include_at_most = row['Include at most']\n",
    "\n",
    "#     if include_at_most:\n",
    "#         for group in include_at_most:\n",
    "#             model.addConstr(quicksum(y[area, c] for c in group) <= 1, name=f'Include at most {area}')"
   ]
  },
  {
   "cell_type": "code",
   "execution_count": 12,
   "metadata": {},
   "outputs": [
    {
     "data": {
      "text/plain": [
       "<gurobi.Constr *Awaiting Model Update*>"
      ]
     },
     "execution_count": 12,
     "metadata": {},
     "output_type": "execute_result"
    }
   ],
   "source": [
    "model.addConstr((y[1, \"Konin\"] + y[3, \"Kalisz\"]) >= 1, name='Konin-Kalisz')\n",
    "model.addConstr((y[3, \"Poznań\"] + y[3, \"Zielona Góra\"] + y[3, \"Leszno\"]) >= 1, name='Poznań, Zielona & Góra-Leszno')\n",
    "\n",
    "model.addConstr((y[2, \"Bytom\"] + y[2, \"Sosnowiec\"] + y[2, \"Katowice\"]) <= 1, name='Bytom, Sosnowiec & Katowice')\n",
    "model.addConstr((y[2, \"Wodzisław Śląski\"] + y[2, \"Jastrzębie-Zdrój\"]) <= 1, name='Wodzisław Śląski & Jastrzębie-Zdrój')"
   ]
  },
  {
   "cell_type": "markdown",
   "metadata": {},
   "source": [
    "### Connection constraint"
   ]
  },
  {
   "cell_type": "code",
   "execution_count": 13,
   "metadata": {},
   "outputs": [],
   "source": [
    "for a in A:\n",
    "    for c1 in C[a]:\n",
    "        model.addConstr(quicksum(x[a,c2,c1] for c2 in C[a] if c2 != c1) <= y[a,c1])\n",
    "\n",
    "\n",
    "# The sum of all connections in an area must be equal to number of cities that is inclued (y[a,c] == 1)\n",
    "# for a in A:\n",
    "#     model.addConstr(quicksum(x[a,c1,c2] for c1 in C[a] for c2 in C[a] if c1 != c2) == (quicksum(y[a,c] for c in C[a])-1))"
   ]
  },
  {
   "cell_type": "markdown",
   "metadata": {},
   "source": [
    "### Flow balance constraint"
   ]
  },
  {
   "cell_type": "code",
   "execution_count": 14,
   "metadata": {},
   "outputs": [],
   "source": [
    "for a in A:\n",
    "    for c1 in C[a]:\n",
    "        if c1 != S[a] and c1 != E[a]:\n",
    "            model.addConstr(quicksum(x[a, c1, c2] for c2 in C[a] if c2 != c1) == y[a, c1], name=f'Flow constraint for {c1} in area {a}')\n",
    "\n",
    "# for a in A:\n",
    "#     for c1 in C[a]:\n",
    "#         if c1 != S[a] and c1 != E[a]:\n",
    "#             model.addConstr(\n",
    "#                 quicksum(x[a, c1, c2] for c2 in C[a] if c2 != c1) == quicksum(x[a, c2, c1] for c2 in C[a] if c2 != c1), \n",
    "#                 name=f'Flow balance for {c1} in area {a}'\n",
    "#             )\n",
    "\n",
    "\n",
    "# for a in A:\n",
    "#     for c1 in C[a]:\n",
    "#         for c2 in C[a]:\n",
    "#             if c1 != c2:\n",
    "#                 model.addConstr(x[a, c1, c2] <= y[a, c1], name=f'Flow constraint for {c1} -> {c2} in area {a}')\n",
    "#                 model.addConstr(x[a, c1, c2] <= y[a, c2], name=f'Flow constraint for {c2} -> {c1} in area {a}')\n",
    "\n",
    "for a in A:\n",
    "    for c1 in C[a]:\n",
    "        for c2 in C[a]:\n",
    "            if c1 != c2:\n",
    "                model.addConstr(x[a, c1, c2] + x[a, c2, c1] <= 1, name=f'Anti-symmetry for {c1} and {c2} in area {a}')\n",
    "\n",
    "\n"
   ]
  },
  {
   "cell_type": "markdown",
   "metadata": {},
   "source": [
    "## Optimize"
   ]
  },
  {
   "cell_type": "code",
   "execution_count": 15,
   "metadata": {},
   "outputs": [
    {
     "name": "stdout",
     "output_type": "stream",
     "text": [
      "Gurobi Optimizer version 11.0.3 build v11.0.3rc0 (win64 - Windows 10.0 (19045.2))\n",
      "\n",
      "CPU model: Intel(R) Core(TM) i7-1065G7 CPU @ 1.30GHz, instruction set [SSE2|AVX|AVX2|AVX512]\n",
      "Thread count: 4 physical cores, 8 logical processors, using up to 8 threads\n",
      "\n",
      "Optimize a model with 275 rows, 230 columns and 950 nonzeros\n",
      "Model fingerprint: 0x115f7e3c\n",
      "Variable types: 0 continuous, 230 integer (230 binary)\n",
      "Coefficient statistics:\n",
      "  Matrix range     [1e+00, 1e+00]\n",
      "  Objective range  [2e+00, 4e+01]\n",
      "  Bounds range     [1e+00, 1e+00]\n",
      "  RHS range        [1e+00, 5e+00]\n",
      "Found heuristic solution: objective 213.2333267\n",
      "Presolve removed 212 rows and 130 columns\n",
      "Presolve time: 0.16s\n",
      "Presolved: 63 rows, 100 columns, 310 nonzeros\n",
      "Found heuristic solution: objective 203.3413037\n",
      "Variable types: 0 continuous, 100 integer (100 binary)\n",
      "\n",
      "Root relaxation: objective 1.281960e+02, 38 iterations, 0.00 seconds (0.00 work units)\n",
      "\n",
      "    Nodes    |    Current Node    |     Objective Bounds      |     Work\n",
      " Expl Unexpl |  Obj  Depth IntInf | Incumbent    BestBd   Gap | It/Node Time\n",
      "\n",
      "     0     0  128.19600    0    8  203.34130  128.19600  37.0%     -    0s\n",
      "H    0     0                     135.7207227  128.19600  5.54%     -    0s\n",
      "H    0     0                     133.4083544  128.19600  3.91%     -    0s\n",
      "H    0     0                     130.9979615  128.19600  2.14%     -    0s\n",
      "\n",
      "Cutting planes:\n",
      "  Zero half: 1\n",
      "\n",
      "Explored 1 nodes (38 simplex iterations) in 0.21 seconds (0.00 work units)\n",
      "Thread count was 8 (of 8 available processors)\n",
      "\n",
      "Solution count 5: 130.998 133.408 135.721 ... 213.233\n",
      "\n",
      "Optimal solution found (tolerance 1.00e-04)\n",
      "Best objective 1.309979614703e+02, best bound 1.309979614703e+02, gap 0.0000%\n"
     ]
    }
   ],
   "source": [
    "model.optimize()"
   ]
  },
  {
   "cell_type": "code",
   "execution_count": 16,
   "metadata": {},
   "outputs": [
    {
     "name": "stdout",
     "output_type": "stream",
     "text": [
      "Main line in area 1 passes through cities Warszawa and Skierniewice\n",
      "Main line in area 1 passes through cities Skierniewice and Piotrków\n",
      "Main line in area 1 passes through cities Piotrków and Radom\n",
      "Main line in area 2 passes through cities Kielce and Kraków\n",
      "Main line in area 2 passes through cities Kraków and Bielsko\n",
      "Main line in area 2 passes through cities Bielsko and Jastrzębie-Zdrój\n",
      "Main line in area 2 passes through cities Jastrzębie-Zdrój and Gliwice\n",
      "Main line in area 3 passes through cities Leszno and Legnica\n",
      "Main line in area 3 passes through cities Kalisz and Leszno\n",
      "Main line in area 3 passes through cities Legnica and Jelenia Góra\n",
      "Main line in area 3 passes through cities Opole and Kalisz\n"
     ]
    }
   ],
   "source": [
    "if model.status == GRB.OPTIMAL:\n",
    "    # for a in A:\n",
    "    #     for i in C[a]:\n",
    "    #         if y[a, i].x > 0.5:\n",
    "    #             print(f\"Main line in area {a} passes through city {i}\")\n",
    "    for a in A:\n",
    "        for i in C[a]:\n",
    "            for j in C[a]:\n",
    "                if i != j:\n",
    "                    if x[a, i, j].x > 0.5:\n",
    "                        print(f\"Main line in area {a} passes through cities {i} and {j}\")"
   ]
  },
  {
   "cell_type": "code",
   "execution_count": 17,
   "metadata": {},
   "outputs": [
    {
     "name": "stdout",
     "output_type": "stream",
     "text": [
      "Main line in area 1 passes through city Warszawa to city Skierniewice\n",
      "Main line in area 1 passes through city Skierniewice to city Piotrków\n",
      "Main line in area 1 passes through city Piotrków to city Radom\n",
      "Main line in area 1 ends in city Radom\n",
      "Main line in area 2 passes through city Kielce to city Kraków\n",
      "Main line in area 2 passes through city Kraków to city Bielsko\n",
      "Main line in area 2 passes through city Bielsko to city Jastrzębie-Zdrój\n",
      "Main line in area 2 passes through city Jastrzębie-Zdrój to city Gliwice\n",
      "Main line in area 2 ends in city Gliwice\n",
      "Main line in area 3 passes through city Opole to city Kalisz\n",
      "Main line in area 3 passes through city Kalisz to city Leszno\n",
      "Main line in area 3 passes through city Leszno to city Legnica\n",
      "Main line in area 3 passes through city Legnica to city Jelenia Góra\n",
      "Main line in area 3 ends in city Jelenia Góra\n"
     ]
    }
   ],
   "source": [
    "current_area = 1\n",
    "current_city = S[current_area]\n",
    "\n",
    "while current_area in A:\n",
    "    if current_city == E[current_area]:\n",
    "        print(f\"Main line in area {current_area} ends in city {current_city}\")\n",
    "        current_area += 1\n",
    "        if current_area not in A:\n",
    "            break\n",
    "        current_city = S[current_area]\n",
    "        continue\n",
    "    for city in C[current_area]:\n",
    "        if city == current_city:\n",
    "            continue\n",
    "        if x[current_area, current_city, city].x > 0.5:\n",
    "            next_city = city\n",
    "            break\n",
    "    print(f\"Main line in area {current_area} passes through city {current_city} to city {next_city}\")\n",
    "    current_city = next_city\n"
   ]
  },
  {
   "cell_type": "markdown",
   "metadata": {},
   "source": [
    "### Write to CSV"
   ]
  },
  {
   "cell_type": "code",
   "execution_count": 23,
   "metadata": {},
   "outputs": [],
   "source": [
    "cities_mainline_df = cities_df.copy()\n",
    "cities_mainline_df['in_mainline'] = 0\n",
    "for a in A:\n",
    "    for c in C[a]:\n",
    "        if y[a, c].x > 0.5:\n",
    "            cities_mainline_df.loc[cities_mainline_df['City'] == c, 'in_mainline'] = 1\n",
    "cities_mainline_df.to_csv('data/cities_mainline.csv', index=False)"
   ]
  }
 ],
 "metadata": {
  "kernelspec": {
   "display_name": "base",
   "language": "python",
   "name": "python3"
  },
  "language_info": {
   "codemirror_mode": {
    "name": "ipython",
    "version": 3
   },
   "file_extension": ".py",
   "mimetype": "text/x-python",
   "name": "python",
   "nbconvert_exporter": "python",
   "pygments_lexer": "ipython3",
   "version": "3.12.5"
  }
 },
 "nbformat": 4,
 "nbformat_minor": 2
}
