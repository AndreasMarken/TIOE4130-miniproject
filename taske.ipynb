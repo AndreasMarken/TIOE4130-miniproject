{
 "cells": [
  {
   "cell_type": "code",
   "execution_count": 177,
   "metadata": {},
   "outputs": [],
   "source": [
    "import pandas as pd\n",
    "import numpy as np\n",
    "from gurobipy import GRB, Model, quicksum\n",
    "\n",
    "import utils.util as utils"
   ]
  },
  {
   "cell_type": "code",
   "execution_count": 178,
   "metadata": {},
   "outputs": [
    {
     "data": {
      "text/html": [
       "<div>\n",
       "<style scoped>\n",
       "    .dataframe tbody tr th:only-of-type {\n",
       "        vertical-align: middle;\n",
       "    }\n",
       "\n",
       "    .dataframe tbody tr th {\n",
       "        vertical-align: top;\n",
       "    }\n",
       "\n",
       "    .dataframe thead th {\n",
       "        text-align: right;\n",
       "    }\n",
       "</style>\n",
       "<table border=\"1\" class=\"dataframe\">\n",
       "  <thead>\n",
       "    <tr style=\"text-align: right;\">\n",
       "      <th></th>\n",
       "      <th>Area</th>\n",
       "      <th>City</th>\n",
       "      <th>x</th>\n",
       "      <th>y</th>\n",
       "      <th>TB/s</th>\n",
       "      <th>in_mainline</th>\n",
       "      <th>switching_stations</th>\n",
       "    </tr>\n",
       "  </thead>\n",
       "  <tbody>\n",
       "    <tr>\n",
       "      <th>0</th>\n",
       "      <td>1</td>\n",
       "      <td>Warszawa</td>\n",
       "      <td>100</td>\n",
       "      <td>65</td>\n",
       "      <td>-</td>\n",
       "      <td>1</td>\n",
       "      <td>2</td>\n",
       "    </tr>\n",
       "    <tr>\n",
       "      <th>1</th>\n",
       "      <td>1</td>\n",
       "      <td>Skierniewice</td>\n",
       "      <td>92</td>\n",
       "      <td>62</td>\n",
       "      <td>197</td>\n",
       "      <td>1</td>\n",
       "      <td>0</td>\n",
       "    </tr>\n",
       "    <tr>\n",
       "      <th>2</th>\n",
       "      <td>1</td>\n",
       "      <td>Lódz</td>\n",
       "      <td>85</td>\n",
       "      <td>58</td>\n",
       "      <td>317</td>\n",
       "      <td>0</td>\n",
       "      <td>0</td>\n",
       "    </tr>\n",
       "    <tr>\n",
       "      <th>3</th>\n",
       "      <td>1</td>\n",
       "      <td>Konin</td>\n",
       "      <td>68</td>\n",
       "      <td>64</td>\n",
       "      <td>236</td>\n",
       "      <td>0</td>\n",
       "      <td>0</td>\n",
       "    </tr>\n",
       "    <tr>\n",
       "      <th>4</th>\n",
       "      <td>1</td>\n",
       "      <td>Sieradz</td>\n",
       "      <td>72</td>\n",
       "      <td>55</td>\n",
       "      <td>178</td>\n",
       "      <td>0</td>\n",
       "      <td>0</td>\n",
       "    </tr>\n",
       "    <tr>\n",
       "      <th>5</th>\n",
       "      <td>1</td>\n",
       "      <td>Piotrków</td>\n",
       "      <td>89</td>\n",
       "      <td>51</td>\n",
       "      <td>139</td>\n",
       "      <td>1</td>\n",
       "      <td>0</td>\n",
       "    </tr>\n",
       "    <tr>\n",
       "      <th>6</th>\n",
       "      <td>1</td>\n",
       "      <td>Radom</td>\n",
       "      <td>102</td>\n",
       "      <td>50</td>\n",
       "      <td>288</td>\n",
       "      <td>1</td>\n",
       "      <td>0</td>\n",
       "    </tr>\n",
       "    <tr>\n",
       "      <th>7</th>\n",
       "      <td>2</td>\n",
       "      <td>Kielce</td>\n",
       "      <td>98</td>\n",
       "      <td>42</td>\n",
       "      <td>-</td>\n",
       "      <td>1</td>\n",
       "      <td>3</td>\n",
       "    </tr>\n",
       "    <tr>\n",
       "      <th>8</th>\n",
       "      <td>2</td>\n",
       "      <td>Czestochowa</td>\n",
       "      <td>79</td>\n",
       "      <td>40</td>\n",
       "      <td>278</td>\n",
       "      <td>0</td>\n",
       "      <td>0</td>\n",
       "    </tr>\n",
       "    <tr>\n",
       "      <th>9</th>\n",
       "      <td>2</td>\n",
       "      <td>Bytom</td>\n",
       "      <td>76</td>\n",
       "      <td>31</td>\n",
       "      <td>163</td>\n",
       "      <td>0</td>\n",
       "      <td>0</td>\n",
       "    </tr>\n",
       "    <tr>\n",
       "      <th>10</th>\n",
       "      <td>2</td>\n",
       "      <td>Gliwice</td>\n",
       "      <td>73</td>\n",
       "      <td>30</td>\n",
       "      <td>105</td>\n",
       "      <td>1</td>\n",
       "      <td>0</td>\n",
       "    </tr>\n",
       "    <tr>\n",
       "      <th>11</th>\n",
       "      <td>2</td>\n",
       "      <td>Sosnowiec</td>\n",
       "      <td>80</td>\n",
       "      <td>29</td>\n",
       "      <td>143</td>\n",
       "      <td>0</td>\n",
       "      <td>0</td>\n",
       "    </tr>\n",
       "    <tr>\n",
       "      <th>12</th>\n",
       "      <td>2</td>\n",
       "      <td>Kraków</td>\n",
       "      <td>89</td>\n",
       "      <td>25</td>\n",
       "      <td>331</td>\n",
       "      <td>1</td>\n",
       "      <td>0</td>\n",
       "    </tr>\n",
       "    <tr>\n",
       "      <th>13</th>\n",
       "      <td>2</td>\n",
       "      <td>Bielsko</td>\n",
       "      <td>79</td>\n",
       "      <td>20</td>\n",
       "      <td>276</td>\n",
       "      <td>1</td>\n",
       "      <td>0</td>\n",
       "    </tr>\n",
       "    <tr>\n",
       "      <th>14</th>\n",
       "      <td>2</td>\n",
       "      <td>Katowice</td>\n",
       "      <td>78</td>\n",
       "      <td>28</td>\n",
       "      <td>263</td>\n",
       "      <td>0</td>\n",
       "      <td>0</td>\n",
       "    </tr>\n",
       "    <tr>\n",
       "      <th>15</th>\n",
       "      <td>2</td>\n",
       "      <td>Jastrzębie-Zdrój</td>\n",
       "      <td>74</td>\n",
       "      <td>23</td>\n",
       "      <td>137</td>\n",
       "      <td>1</td>\n",
       "      <td>0</td>\n",
       "    </tr>\n",
       "    <tr>\n",
       "      <th>16</th>\n",
       "      <td>2</td>\n",
       "      <td>Wodzisław Śląski</td>\n",
       "      <td>71</td>\n",
       "      <td>23</td>\n",
       "      <td>119</td>\n",
       "      <td>0</td>\n",
       "      <td>0</td>\n",
       "    </tr>\n",
       "    <tr>\n",
       "      <th>17</th>\n",
       "      <td>3</td>\n",
       "      <td>Poznań</td>\n",
       "      <td>54</td>\n",
       "      <td>68</td>\n",
       "      <td>251</td>\n",
       "      <td>0</td>\n",
       "      <td>0</td>\n",
       "    </tr>\n",
       "    <tr>\n",
       "      <th>18</th>\n",
       "      <td>3</td>\n",
       "      <td>Zielona Góra</td>\n",
       "      <td>39</td>\n",
       "      <td>60</td>\n",
       "      <td>121</td>\n",
       "      <td>0</td>\n",
       "      <td>0</td>\n",
       "    </tr>\n",
       "    <tr>\n",
       "      <th>19</th>\n",
       "      <td>3</td>\n",
       "      <td>Leszno</td>\n",
       "      <td>51</td>\n",
       "      <td>58</td>\n",
       "      <td>84</td>\n",
       "      <td>1</td>\n",
       "      <td>0</td>\n",
       "    </tr>\n",
       "    <tr>\n",
       "      <th>20</th>\n",
       "      <td>3</td>\n",
       "      <td>Kalisz</td>\n",
       "      <td>65</td>\n",
       "      <td>58</td>\n",
       "      <td>207</td>\n",
       "      <td>1</td>\n",
       "      <td>0</td>\n",
       "    </tr>\n",
       "    <tr>\n",
       "      <th>21</th>\n",
       "      <td>3</td>\n",
       "      <td>Legnica</td>\n",
       "      <td>45</td>\n",
       "      <td>47</td>\n",
       "      <td>176</td>\n",
       "      <td>1</td>\n",
       "      <td>0</td>\n",
       "    </tr>\n",
       "    <tr>\n",
       "      <th>22</th>\n",
       "      <td>3</td>\n",
       "      <td>Wrocław</td>\n",
       "      <td>54</td>\n",
       "      <td>45</td>\n",
       "      <td>133</td>\n",
       "      <td>0</td>\n",
       "      <td>0</td>\n",
       "    </tr>\n",
       "    <tr>\n",
       "      <th>23</th>\n",
       "      <td>3</td>\n",
       "      <td>Jelenia Góra</td>\n",
       "      <td>40</td>\n",
       "      <td>42</td>\n",
       "      <td>167</td>\n",
       "      <td>1</td>\n",
       "      <td>0</td>\n",
       "    </tr>\n",
       "    <tr>\n",
       "      <th>24</th>\n",
       "      <td>3</td>\n",
       "      <td>Wałbrzych</td>\n",
       "      <td>46</td>\n",
       "      <td>39</td>\n",
       "      <td>129</td>\n",
       "      <td>0</td>\n",
       "      <td>0</td>\n",
       "    </tr>\n",
       "    <tr>\n",
       "      <th>25</th>\n",
       "      <td>3</td>\n",
       "      <td>Opole</td>\n",
       "      <td>67</td>\n",
       "      <td>37</td>\n",
       "      <td>-</td>\n",
       "      <td>1</td>\n",
       "      <td>1</td>\n",
       "    </tr>\n",
       "  </tbody>\n",
       "</table>\n",
       "</div>"
      ],
      "text/plain": [
       "    Area              City    x   y TB/s  in_mainline  switching_stations\n",
       "0      1          Warszawa  100  65    -            1                   2\n",
       "1      1      Skierniewice   92  62  197            1                   0\n",
       "2      1              Lódz   85  58  317            0                   0\n",
       "3      1             Konin   68  64  236            0                   0\n",
       "4      1           Sieradz   72  55  178            0                   0\n",
       "5      1          Piotrków   89  51  139            1                   0\n",
       "6      1             Radom  102  50  288            1                   0\n",
       "7      2            Kielce   98  42    -            1                   3\n",
       "8      2       Czestochowa   79  40  278            0                   0\n",
       "9      2             Bytom   76  31  163            0                   0\n",
       "10     2           Gliwice   73  30  105            1                   0\n",
       "11     2         Sosnowiec   80  29  143            0                   0\n",
       "12     2            Kraków   89  25  331            1                   0\n",
       "13     2           Bielsko   79  20  276            1                   0\n",
       "14     2          Katowice   78  28  263            0                   0\n",
       "15     2  Jastrzębie-Zdrój   74  23  137            1                   0\n",
       "16     2  Wodzisław Śląski   71  23  119            0                   0\n",
       "17     3            Poznań   54  68  251            0                   0\n",
       "18     3      Zielona Góra   39  60  121            0                   0\n",
       "19     3            Leszno   51  58   84            1                   0\n",
       "20     3            Kalisz   65  58  207            1                   0\n",
       "21     3           Legnica   45  47  176            1                   0\n",
       "22     3           Wrocław   54  45  133            0                   0\n",
       "23     3      Jelenia Góra   40  42  167            1                   0\n",
       "24     3         Wałbrzych   46  39  129            0                   0\n",
       "25     3             Opole   67  37    -            1                   1"
      ]
     },
     "execution_count": 178,
     "metadata": {},
     "output_type": "execute_result"
    }
   ],
   "source": [
    "cities_df = pd.read_csv('data/cities_mainline.csv')\n",
    "# for i, row in cities_df.iterrows():\n",
    "#     if row['city'] == ''\n",
    "#     cities_df.at[i, 'has_switching_station'] = row['city']\n",
    "cities_df['switching_stations'] = 0\n",
    "cities_df.loc[cities_df['City'] == 'Opole', 'switching_stations'] = 1\n",
    "cities_df.loc[cities_df['City'] == 'Warszawa', 'switching_stations'] = 2\n",
    "cities_df.loc[cities_df['City'] == 'Kielce', 'switching_stations'] = 3\n",
    "cities_df"
   ]
  },
  {
   "cell_type": "markdown",
   "metadata": {},
   "source": [
    "### Parameters"
   ]
  },
  {
   "cell_type": "code",
   "execution_count": 179,
   "metadata": {},
   "outputs": [],
   "source": [
    "S = cities_df[cities_df['switching_stations'] > 0]['City'].tolist()\n",
    "C_not = cities_df[cities_df['in_mainline'] == 0]['City'].tolist()\n",
    "\n",
    "M = {s: cities_df[cities_df['City'] == s]['switching_stations'].values[0]*400 for s in S}\n",
    "R = {c_not: int(cities_df[cities_df['City'] == c_not]['TB/s'].values[0]) for c_not in C_not}\n",
    "d = {(s, c_not): utils.euclidean((cities_df[cities_df['City'] == s]['x'].values[0], cities_df[cities_df['City'] == s]['y'].values[0]), (cities_df[cities_df['City'] == c_not]['x'].values[0], cities_df[cities_df['City'] == c_not]['y'].values[0])) for s in S for c_not in C_not}\n",
    "P = 1000\n",
    "L = 200\n",
    "T = 0.4"
   ]
  },
  {
   "cell_type": "code",
   "execution_count": 180,
   "metadata": {},
   "outputs": [],
   "source": [
    "model = Model('Capacity optimization')"
   ]
  },
  {
   "cell_type": "markdown",
   "metadata": {},
   "source": [
    "### Variables"
   ]
  },
  {
   "cell_type": "code",
   "execution_count": 181,
   "metadata": {},
   "outputs": [],
   "source": [
    "f = model.addVars([(s, c_not) for s in S for c_not in C_not], vtype=GRB.CONTINUOUS, name='f')"
   ]
  },
  {
   "cell_type": "markdown",
   "metadata": {},
   "source": [
    "### Objective function"
   ]
  },
  {
   "cell_type": "code",
   "execution_count": 182,
   "metadata": {},
   "outputs": [],
   "source": [
    "model.setObjective(quicksum(P*d[(s, c_not)]*f[s, c_not] for s in S for c_not in C_not), GRB.MINIMIZE)"
   ]
  },
  {
   "cell_type": "markdown",
   "metadata": {},
   "source": [
    "### Constraints"
   ]
  },
  {
   "cell_type": "markdown",
   "metadata": {},
   "source": [
    "#### Copper cable constraint, degradation constraint, and non negativity constraint"
   ]
  },
  {
   "cell_type": "code",
   "execution_count": 183,
   "metadata": {},
   "outputs": [],
   "source": [
    "for s in S:\n",
    "    for c_not in C_not:\n",
    "        model.addConstr(f[s, c_not] <= L, f'copper_cable_capacity_{s}_{c_not}')             # Copper cable capacity constraint\n",
    "        model.addConstr(f[s, c_not] <= 2*np.pi*d[s, c_not], f'degradation_{s}_{c_not}')     # Degradation constraint\n",
    "        model.addConstr(f[s, c_not] >= 0, f'non_negativity_{s}_{c_not}')                    # Non negativity constraint"
   ]
  },
  {
   "cell_type": "markdown",
   "metadata": {},
   "source": [
    "#### City requirement constraint"
   ]
  },
  {
   "cell_type": "code",
   "execution_count": 184,
   "metadata": {},
   "outputs": [],
   "source": [
    "for c_not in C_not:\n",
    "    # print(R)\n",
    "    # print(f[s, c_not] for c_not in C_not)\n",
    "    # print(quicksum(f[s, c_not] for c_not in C_not).getValue())\n",
    "    model.addConstr(quicksum(f[s, c_not] for s in S) >= R[c_not], f'city_requirement_{c_not}')"
   ]
  },
  {
   "cell_type": "markdown",
   "metadata": {},
   "source": [
    "#### Maximum capacity constraint"
   ]
  },
  {
   "cell_type": "code",
   "execution_count": 185,
   "metadata": {},
   "outputs": [],
   "source": [
    "for s in S:\n",
    "    model.addConstr(quicksum(f[s, c_not] for c_not in C_not) <= M[s], f'maximum_capacity_{s}')"
   ]
  },
  {
   "cell_type": "markdown",
   "metadata": {},
   "source": [
    "UFO constraint"
   ]
  },
  {
   "cell_type": "code",
   "execution_count": 186,
   "metadata": {},
   "outputs": [],
   "source": [
    "for s in S:\n",
    "    model.addConstr(f[s, 'Lódz'] <= T * R['Lódz'], f'UFO_{s}')"
   ]
  },
  {
   "cell_type": "markdown",
   "metadata": {},
   "source": [
    "### Optimize"
   ]
  },
  {
   "cell_type": "code",
   "execution_count": 187,
   "metadata": {},
   "outputs": [
    {
     "name": "stdout",
     "output_type": "stream",
     "text": [
      "Gurobi Optimizer version 11.0.3 build v11.0.3rc0 (win64 - Windows 10.0 (19045.2))\n",
      "\n",
      "CPU model: Intel(R) Core(TM) i7-1065G7 CPU @ 1.30GHz, instruction set [SSE2|AVX|AVX2|AVX512]\n",
      "Thread count: 4 physical cores, 8 logical processors, using up to 8 threads\n",
      "\n",
      "Optimize a model with 126 rows, 36 columns and 183 nonzeros\n",
      "Model fingerprint: 0x1b6acff4\n",
      "Coefficient statistics:\n",
      "  Matrix range     [1e+00, 1e+00]\n",
      "  Objective range  [1e+04, 6e+04]\n",
      "  Bounds range     [0e+00, 0e+00]\n",
      "  RHS range        [7e+01, 1e+03]\n",
      "Presolve removed 111 rows and 0 columns\n",
      "Presolve time: 0.01s\n",
      "Presolved: 15 rows, 36 columns, 72 nonzeros\n",
      "\n",
      "Iteration    Objective       Primal Inf.    Dual Inf.      Time\n",
      "       0    8.7009370e+06   2.493404e+02   0.000000e+00      0s\n",
      "      21    6.9349644e+07   0.000000e+00   0.000000e+00      0s\n",
      "\n",
      "Solved in 21 iterations and 0.02 seconds (0.00 work units)\n",
      "Optimal objective  6.934964446e+07\n"
     ]
    }
   ],
   "source": [
    "model.optimize()"
   ]
  },
  {
   "cell_type": "code",
   "execution_count": 188,
   "metadata": {},
   "outputs": [
    {
     "name": "stdout",
     "output_type": "stream",
     "text": [
      "\n",
      "Statistics for model Capacity optimization:\n",
      "  Linear constraint matrix    : 126 Constrs, 36 Vars, 183 NZs\n",
      "  Matrix coefficient range    : [ 1, 1 ]\n",
      "  Objective coefficient range : [ 10816.7, 61684.7 ]\n",
      "  Variable bound range        : [ 0, 0 ]\n",
      "  RHS coefficient range       : [ 67.963, 1200 ]\n",
      "\n",
      "Cost of connecting the remaining cities to the switching stations: 69349644.46 EUR\n",
      "\n",
      "\n",
      "Poznań capacity:\n",
      "- Capacity between Warszawa and Poznań: 200.00\n",
      "- Capacity between Kielce and Poznań: 51.00\n",
      "- Capacity between Opole and Poznań: 0.00\n",
      "\n",
      "Wałbrzych capacity:\n",
      "- Capacity between Warszawa and Wałbrzych: 0.00\n",
      "- Capacity between Kielce and Wałbrzych: 0.00\n",
      "- Capacity between Opole and Wałbrzych: 129.00\n",
      "\n",
      "\n",
      "Kielce capacity:\n",
      "- Total capacity at the switching station in Kielce: 1200.00\n",
      "- Utilized capacity at the switching station in Kielce: 1131.00\n",
      "- Utilization: 94.25%, Remaining capacity: 69.00\n"
     ]
    }
   ],
   "source": [
    "if model.status == GRB.OPTIMAL:\n",
    "    model.printStats()\n",
    "    print()\n",
    "    \n",
    "    # What will be the costs of connecting the remaining cities to the switching stations?\n",
    "    objective_value = model.getObjective().getValue()\n",
    "    print(f'Cost of connecting the remaining cities to the switching stations: {objective_value:.2f} EUR\\n\\n')\n",
    "    \n",
    "    # What capacity should be installed between Poznań and Wałbrzych and the variou switching stations?\n",
    "    print('Poznań capacity:')\n",
    "    for s in S:\n",
    "        capacity_1 = f[s, 'Poznań'].X\n",
    "        print(f'- Capacity between {s} and Poznań: {capacity_1:.2f}')\n",
    "    print('\\nWałbrzych capacity:')\n",
    "    for s in S:\n",
    "        capacity_2 = f[s, 'Wałbrzych'].X\n",
    "        print(f'- Capacity between {s} and Wałbrzych: {capacity_2:.2f}')\n",
    "        \n",
    "    # How much of the total capacity at the switching station in Kielce is utilized?\n",
    "    print('\\n\\nKielce capacity:')\n",
    "    capacity_3 = sum(f['Kielce', c_not].X for c_not in C_not)\n",
    "    print(f'- Total capacity at the switching station in Kielce: {M[\"Kielce\"]:.2f}')\n",
    "    print(f'- Utilized capacity at the switching station in Kielce: {capacity_3:.2f}')\n",
    "    print(f'- Utilization: {(capacity_3/M[\"Kielce\"])*100:.2f}%, Remaining capacity: {M[\"Kielce\"]-capacity_3:.2f}')"
   ]
  },
  {
   "cell_type": "markdown",
   "metadata": {},
   "source": [
    "#### Verify connections and satisfied requirements"
   ]
  },
  {
   "cell_type": "code",
   "execution_count": 189,
   "metadata": {},
   "outputs": [
    {
     "name": "stdout",
     "output_type": "stream",
     "text": [
      "                City  Warszawa  Kielce  Opole  Warszawa_flow  Kielce_flow  \\\n",
      "0               Lódz         1       1      1         104.01       126.80   \n",
      "1              Konin         1       1      0         200.00        36.00   \n",
      "2            Sieradz         0       1      0           0.00       178.00   \n",
      "3        Czestochowa         1       1      0         157.96       120.04   \n",
      "4              Bytom         0       1      1           0.00       154.55   \n",
      "5          Sosnowiec         1       1      0           3.49       139.51   \n",
      "6           Katowice         1       1      1          20.31       153.39   \n",
      "7   Wodzisław Śląski         0       1      0           0.00       119.00   \n",
      "8             Poznań         1       1      0         200.00        51.00   \n",
      "9       Zielona Góra         1       1      0         114.24         6.76   \n",
      "10           Wrocław         0       1      1           0.00        45.95   \n",
      "11         Wałbrzych         0       0      1           0.00         0.00   \n",
      "\n",
      "    Opole_flow  Flow_sum  Requirement  Difference  \n",
      "0        86.19     317.0          317         0.0  \n",
      "1         0.00     236.0          236         0.0  \n",
      "2         0.00     178.0          178         0.0  \n",
      "3         0.00     278.0          278         0.0  \n",
      "4         8.45     163.0          163         0.0  \n",
      "5         0.00     143.0          143         0.0  \n",
      "6        89.30     263.0          263         0.0  \n",
      "7         0.00     119.0          119         0.0  \n",
      "8         0.00     251.0          251         0.0  \n",
      "9         0.00     121.0          121         0.0  \n",
      "10       87.05     133.0          133         0.0  \n",
      "11      129.00     129.0          129         0.0  \n"
     ]
    }
   ],
   "source": [
    "if model.status == GRB.OPTIMAL:\n",
    "    \n",
    "    results = {}\n",
    "    results['City'] = C_not\n",
    "    for s in S:\n",
    "        results[f'{s}'] = [1 if f[s, c_not].X > 0 else 0 for c_not in C_not]\n",
    "    for s in S:\n",
    "        results[f'{s}_flow'] = [round(f[s, c_not].X, 2) for c_not in C_not]\n",
    "    \n",
    "    results['Flow_sum'] = [sum([f[s, c_not].X for s in S]) for c_not in C_not]\n",
    "    results['Requirement'] = [R[c_not] for c_not in C_not]\n",
    "    results['Difference'] = [R[c_not] - sum([f[s, c_not].X for s in S]) for c_not in C_not]\n",
    "    \n",
    "    results_df = pd.DataFrame(results)\n",
    "    print(results_df)"
   ]
  },
  {
   "cell_type": "markdown",
   "metadata": {},
   "source": [
    "#### Verify switching stations capacities"
   ]
  },
  {
   "cell_type": "code",
   "execution_count": 190,
   "metadata": {},
   "outputs": [
    {
     "name": "stdout",
     "output_type": "stream",
     "text": [
      "  Switching_station  Maximum_capacity  Capacity_used  Remaining_capacity\n",
      "0          Warszawa               800          800.0                 0.0\n",
      "1            Kielce              1200         1131.0                69.0\n",
      "2             Opole               400          400.0                 0.0\n"
     ]
    }
   ],
   "source": [
    "if model.status == GRB.OPTIMAL:\n",
    "    \n",
    "    results = {}\n",
    "    results['Switching_station'] = S\n",
    "    results['Maximum_capacity'] = [M[s] for s in S]\n",
    "    results['Capacity_used'] = [sum([f[s, c_not].X for c_not in C_not]) for s in S]\n",
    "    results['Remaining_capacity'] = [round(M[s] - sum([f[s, c_not].X for c_not in C_not]), 1) for s in S]\n",
    "    \n",
    "    results_df = pd.DataFrame(results)\n",
    "    print(results_df)"
   ]
  },
  {
   "cell_type": "markdown",
   "metadata": {},
   "source": [
    "### Sensitivity Analysis"
   ]
  },
  {
   "cell_type": "markdown",
   "metadata": {},
   "source": [
    "#### Changes in demand"
   ]
  },
  {
   "cell_type": "code",
   "execution_count": 191,
   "metadata": {},
   "outputs": [
    {
     "name": "stdout",
     "output_type": "stream",
     "text": [
      "### Constraint: city_requirement_Konin ###\n",
      "Shadow price: 37202.15\n",
      "Right hand side: 236.00\n",
      "Right hand side lower and upper bound: [200.00, 305.00]\n",
      "\n",
      "Increasing right hand side with 10.0% (259.60) is WITHIN the upper bound 305.00, Change in total cost: 877970.75 EUR\n",
      "Increasing right hand side with 20.0% (283.20) is WITHIN the upper bound 305.00, Change in total cost: 1755941.50 EUR\n",
      "Decreasing right hand side with -10.0% (212.40) is WITHIN the lower bound 200.00, Change in total cost: 877970.75 EUR\n",
      "Decreasing right hand side with -20.0% (188.80) is OUTSIDE the lower bound 200.00\n"
     ]
    }
   ],
   "source": [
    "if model.status == GRB.OPTIMAL:\n",
    "    \n",
    "    # Get shadow price and RHS bounds\n",
    "    shadow_price = model.getConstrByName(f'city_requirement_Konin').Pi\n",
    "    rhs = model.getConstrByName(f'city_requirement_Konin').RHS\n",
    "    rhs_lower = model.getConstrByName(f'city_requirement_Konin').SARHSLow\n",
    "    rhs_upper = model.getConstrByName(f'city_requirement_Konin').SARHSUp\n",
    "    \n",
    "    print('### Constraint: city_requirement_Konin ###')\n",
    "    print(f'Shadow price: {shadow_price:.2f}')\n",
    "    print(f'Right hand side: {rhs:.2f}')\n",
    "    print(f'Right hand side lower and upper bound: [{rhs_lower:.2f}, {rhs_upper:.2f}]')\n",
    "    \n",
    "    print()\n",
    "    \n",
    "    increase_rhs_10_percent = rhs * 1.1\n",
    "    increase_rhs_20_percent = rhs * 1.2\n",
    "    decrease_rhs_10_percent = rhs * 0.9\n",
    "    decrease_rhs_20_percent = rhs * 0.8\n",
    "    \n",
    "    # Test if any are outside the bounds\n",
    "    for increased_rhs in [increase_rhs_10_percent, increase_rhs_20_percent]:\n",
    "        percentage_increase = round(((increased_rhs - rhs) / rhs) * 100, 0)\n",
    "        if increased_rhs > rhs_upper:\n",
    "            print(f'Increasing right hand side with {percentage_increase}% ({increased_rhs:.2f}) is OUTSIDE the upper bound {rhs_upper:.2f}')\n",
    "        else:\n",
    "            change_in_total_cost = shadow_price * np.abs(increased_rhs - rhs)\n",
    "            print(f'Increasing right hand side with {percentage_increase}% ({increased_rhs:.2f}) is WITHIN the upper bound {rhs_upper:.2f}, Change in total cost: {change_in_total_cost:.2f} EUR')\n",
    "    \n",
    "    # Test if any are outside the bounds\n",
    "    for decreased_rhs in [decrease_rhs_10_percent, decrease_rhs_20_percent]:\n",
    "        percentage_increase = round(((decreased_rhs - rhs) / rhs) * 100, 0)\n",
    "        if decreased_rhs < rhs_lower:\n",
    "            print(f'Decreasing right hand side with {percentage_increase}% ({decreased_rhs:.2f}) is OUTSIDE the lower bound {rhs_lower:.2f}')\n",
    "        else:\n",
    "            change_in_total_cost = shadow_price * np.abs(decreased_rhs - rhs)\n",
    "            print(f'Decreasing right hand side with {percentage_increase}% ({decreased_rhs:.2f}) is WITHIN the lower bound {rhs_lower:.2f}, Change in total cost: {change_in_total_cost:.2f} EUR')      "
   ]
  },
  {
   "cell_type": "code",
   "execution_count": 192,
   "metadata": {},
   "outputs": [
    {
     "name": "stdout",
     "output_type": "stream",
     "text": [
      "Gurobi Optimizer version 11.0.3 build v11.0.3rc0 (win64 - Windows 10.0 (19045.2))\n",
      "\n",
      "CPU model: Intel(R) Core(TM) i7-1065G7 CPU @ 1.30GHz, instruction set [SSE2|AVX|AVX2|AVX512]\n",
      "Thread count: 4 physical cores, 8 logical processors, using up to 8 threads\n",
      "\n",
      "Optimize a model with 126 rows, 36 columns and 183 nonzeros\n",
      "Model fingerprint: 0x4b1146f3\n",
      "Coefficient statistics:\n",
      "  Matrix range     [1e+00, 1e+00]\n",
      "  Objective range  [1e+04, 6e+04]\n",
      "  Bounds range     [0e+00, 0e+00]\n",
      "  RHS range        [7e+01, 1e+03]\n",
      "Presolve removed 111 rows and 0 columns\n",
      "Presolve time: 0.01s\n",
      "Presolved: 15 rows, 36 columns, 72 nonzeros\n",
      "\n",
      "Iteration    Objective       Primal Inf.    Dual Inf.      Time\n",
      "       0    8.7009370e+06   2.434404e+02   0.000000e+00      0s\n",
      "      20    6.7648527e+07   0.000000e+00   0.000000e+00      0s\n",
      "\n",
      "Solved in 20 iterations and 0.01 seconds (0.00 work units)\n",
      "Optimal objective  6.764852745e+07\n"
     ]
    }
   ],
   "source": [
    "# Recreate the model\n",
    "new_model = Model('Capacity optimization with updated constraint city_requirement_Konin')\n",
    "f = new_model.addVars([(s, c_not) for s in S for c_not in C_not], vtype=GRB.CONTINUOUS, name='f')\n",
    "new_model.setObjective(quicksum(P*d[(s, c_not)]*f[s, c_not] for s in S for c_not in C_not), GRB.MINIMIZE)\n",
    "\n",
    "# Add the constraints\n",
    "for s in S:\n",
    "    for c_not in C_not:\n",
    "        new_model.addConstr(f[s, c_not] <= L, f'copper_cable_capacity_{s}_{c_not}')             # Copper cable capacity constraint\n",
    "        new_model.addConstr(f[s, c_not] <= 2*np.pi*d[s, c_not], f'degradation_{s}_{c_not}')     # Degradation constraint\n",
    "        new_model.addConstr(f[s, c_not] >= 0, f'non_negativity_{s}_{c_not}')                    # Non negativity constraint\n",
    "\n",
    "for s in S:\n",
    "    new_model.addConstr(quicksum(f[s, c_not] for c_not in C_not) <= M[s], f'maximum_capacity_{s}')  # Maximum capacity constraint\n",
    "\n",
    "for s in S:\n",
    "    new_model.addConstr(f[s, 'Lódz'] <= 0.4 * R['Lódz'], f'UFO_{s}')                            # UFO constraint\n",
    "\n",
    "for c_not in C_not:\n",
    "    if c_not == 'Konin':\n",
    "        new_model.addConstr(quicksum(f[s, c_not] for s in S) >= 0.8 * R[c_not], f'city_requirement_{c_not}')  # Updated constraint\n",
    "    else:\n",
    "        new_model.addConstr(quicksum(f[s, c_not] for s in S) >= R[c_not], f'city_requirement_{c_not}')  # City requirement constraint\n",
    "        \n",
    "# Optimize the model\n",
    "new_model.optimize()"
   ]
  },
  {
   "cell_type": "code",
   "execution_count": 193,
   "metadata": {},
   "outputs": [
    {
     "name": "stdout",
     "output_type": "stream",
     "text": [
      "No changes: Cost of connecting the remaining cities to the switching stations: 69349644.46 EUR\n",
      "20% decrease: Cost of connecting the remaining cities to the switching stations: 67648527.45 EUR\n",
      "\n",
      "A 20% decrease in demand for Konin, causes a lower total cost, meaning an improvement of: 1701117.01 EUR\n"
     ]
    }
   ],
   "source": [
    "if new_model.status == GRB.OPTIMAL:\n",
    "    if model.status == GRB.OPTIMAL:\n",
    "        old_objective_value = model.getObjective().getValue()\n",
    "        new_objective_value = new_model.getObjective().getValue()\n",
    "        sign_string = 'lower' if new_objective_value < old_objective_value else 'higher'\n",
    "        result_string = 'an improvement' if new_objective_value < old_objective_value else 'a worsening'\n",
    "        \n",
    "        print(f'No changes: Cost of connecting the remaining cities to the switching stations: {old_objective_value:.2f} EUR')\n",
    "        print(f'20% decrease: Cost of connecting the remaining cities to the switching stations: {new_objective_value:.2f} EUR\\n')\n",
    "        print(f'A 20% decrease in demand for Konin, causes a {sign_string} total cost, meaning {result_string} of: {old_objective_value - new_objective_value:.2f} EUR')"
   ]
  },
  {
   "cell_type": "markdown",
   "metadata": {},
   "source": [
    "#### Precision of Pi"
   ]
  },
  {
   "cell_type": "code",
   "execution_count": 194,
   "metadata": {},
   "outputs": [
    {
     "name": "stdout",
     "output_type": "stream",
     "text": [
      "Lower and upper bound of pi for the current basis to remain optimal: [3.123475237772121, 3.220198046143971] (percentage change: [-0.58%, 2.5%])\n"
     ]
    }
   ],
   "source": [
    "if model.status == GRB.OPTIMAL:\n",
    "    \n",
    "    # Find max lower bound and min upper bound of pi\n",
    "    max_pi_lower_bound = -np.inf\n",
    "    min_pi_upper_bound = np.inf\n",
    "    for s in S:\n",
    "        for c_not in C_not:\n",
    "            adjustment_factor = (1 / (2 * d[s, c_not]))\n",
    "            degradation = model.getConstrByName(f'degradation_{s}_{c_not}')\n",
    "            pi_lower_bound = degradation.SARHSLow * adjustment_factor\n",
    "            pi_upper_bound = degradation.SARHSUp * adjustment_factor\n",
    "            if pi_lower_bound > max_pi_lower_bound:\n",
    "                max_pi_lower_bound = pi_lower_bound\n",
    "            if pi_upper_bound < min_pi_upper_bound:\n",
    "                min_pi_upper_bound = pi_upper_bound\n",
    "    \n",
    "    # Calculate the percentage change\n",
    "    percentage_change_lower = round(((max_pi_lower_bound - np.pi) / np.pi) * 100, 2)\n",
    "    percentage_change_upper = round(((min_pi_upper_bound - np.pi) / np.pi) * 100, 2)\n",
    "    \n",
    "    # Print the results\n",
    "    print(f'Lower and upper bound of pi for the current basis to remain optimal: {[max_pi_lower_bound, min_pi_upper_bound]} (percentage change: [{percentage_change_lower}%, {percentage_change_upper}%])')"
   ]
  }
 ],
 "metadata": {
  "kernelspec": {
   "display_name": "optimering",
   "language": "python",
   "name": "python3"
  },
  "language_info": {
   "codemirror_mode": {
    "name": "ipython",
    "version": 3
   },
   "file_extension": ".py",
   "mimetype": "text/x-python",
   "name": "python",
   "nbconvert_exporter": "python",
   "pygments_lexer": "ipython3",
   "version": "3.12.5"
  }
 },
 "nbformat": 4,
 "nbformat_minor": 2
}
